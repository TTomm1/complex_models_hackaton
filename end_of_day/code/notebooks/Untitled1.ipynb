{
 "cells": [
  {
   "cell_type": "code",
   "execution_count": 1,
   "metadata": {
    "collapsed": true
   },
   "outputs": [],
   "source": [
    "import json\n",
    "import requests\n",
    "import unittest\n",
    "\n",
    "HOST = \"http://127.0.0.1\"\n",
    "PORT = 5000\n",
    "END_POINT = 'api/v1/predict'\n",
    "url = \"{host}:{port}/{end_point}\".format(host=HOST, port=PORT,\n",
    "                                         end_point=END_POINT)"
   ]
  },
  {
   "cell_type": "code",
   "execution_count": 2,
   "metadata": {
    "collapsed": true
   },
   "outputs": [],
   "source": [
    "class TestRequests(unittest.TestCase):\n",
    "\n",
    "    def setUp(self):\n",
    "        with open('example_request_data.json') as f:\n",
    "            self.example_params = json.load(f)\n",
    "\n",
    "    def test_get(self):\n",
    "        response = requests.get(url, params=self.example_params)\n",
    "        self.assertEqual(response.status_code, 200)\n",
    "\n",
    "    def test_content_type(self):\n",
    "        response = requests.get(url, params=self.example_params)\n",
    "        self.assertEqual(response.headers['content-type'], 'application/json')\n",
    "\n",
    "    def test_content(self):\n",
    "        response = requests.get(url, params=self.example_params)\n",
    "        result = response.json()\n",
    "        self.assertEqual(sorted(result.keys()),\n",
    "                         sorted(['label', 'probability', 'sample_uuid']))\n",
    "        self.assertIsInstance(result['label'], float)\n",
    "        self.assertTrue(result['label'], [0., 1.])\n",
    "        self.assertIsInstance(result['probability'], float)\n",
    "        self.assertTrue(0 <= result['probability'] <= 1)"
   ]
  },
  {
   "cell_type": "code",
   "execution_count": null,
   "metadata": {
    "collapsed": true
   },
   "outputs": [],
   "source": [
    "if __name__ == '__main__':\n",
    "    print(\"Testing on: {url}\".format(url=url))\n",
    "    unittest.main()\n",
    "    \n",
    "    \n",
    "    "
   ]
  },
  {
   "cell_type": "code",
   "execution_count": 4,
   "metadata": {
    "collapsed": false
   },
   "outputs": [
    {
     "ename": "NameError",
     "evalue": "name 'self' is not defined",
     "output_type": "error",
     "traceback": [
      "\u001b[0;31m---------------------------------------------------------------------------\u001b[0m",
      "\u001b[0;31mNameError\u001b[0m                                 Traceback (most recent call last)",
      "\u001b[0;32m<ipython-input-4-33f6e38bdb45>\u001b[0m in \u001b[0;36m<module>\u001b[0;34m()\u001b[0m\n\u001b[0;32m----> 1\u001b[0;31m \u001b[0mTestRequests\u001b[0m\u001b[0;34m.\u001b[0m\u001b[0msetUp\u001b[0m\u001b[0;34m(\u001b[0m\u001b[0mself\u001b[0m\u001b[0;34m)\u001b[0m\u001b[0;34m\u001b[0m\u001b[0m\n\u001b[0m",
      "\u001b[0;31mNameError\u001b[0m: name 'self' is not defined"
     ]
    }
   ],
   "source": []
  },
  {
   "cell_type": "code",
   "execution_count": null,
   "metadata": {
    "collapsed": true
   },
   "outputs": [],
   "source": []
  }
 ],
 "metadata": {
  "kernelspec": {
   "display_name": "Python 3",
   "language": "python",
   "name": "python3"
  },
  "language_info": {
   "codemirror_mode": {
    "name": "ipython",
    "version": 3
   },
   "file_extension": ".py",
   "mimetype": "text/x-python",
   "name": "python",
   "nbconvert_exporter": "python",
   "pygments_lexer": "ipython3",
   "version": "3.5.1"
  }
 },
 "nbformat": 4,
 "nbformat_minor": 0
}
