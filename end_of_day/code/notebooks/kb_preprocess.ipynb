{
 "cells": [
  {
   "cell_type": "code",
   "execution_count": null,
   "metadata": {
    "collapsed": false
   },
   "outputs": [],
   "source": [
    "%matplotlib inline  \n",
    "\n",
    "import numpy as np\n",
    "import pandas as pd\n",
    "import sklearn\n",
    "import sys\n",
    "import os.path\n",
    "import seaborn as sns\n",
    "import matplotlib.pyplot as plt\n"
   ]
  },
  {
   "cell_type": "code",
   "execution_count": null,
   "metadata": {
    "collapsed": false,
    "scrolled": true
   },
   "outputs": [],
   "source": [
    "basepath = os.path.dirname(\".\")\n",
    "filepath = os.path.abspath(os.path.join(basepath, \"..\", \"data\", \"train_set.csv\"))\n",
    "print(filepath)"
   ]
  },
  {
   "cell_type": "code",
   "execution_count": null,
   "metadata": {
    "collapsed": false
   },
   "outputs": [],
   "source": [
    "traindata=pd.read_csv(filepath)"
   ]
  },
  {
   "cell_type": "code",
   "execution_count": null,
   "metadata": {
    "collapsed": false
   },
   "outputs": [],
   "source": [
    "traindata.head(2).T"
   ]
  },
  {
   "cell_type": "code",
   "execution_count": null,
   "metadata": {
    "collapsed": false
   },
   "outputs": [],
   "source": [
    "traindata['approx_payout_date']=pd.to_datetime(traindata.approx_payout_date, unit='s')\n",
    "traindata['event_created'] = pd.to_datetime(traindata.event_created, unit = 's')\n",
    "traindata['event_end'] = pd.to_datetime(traindata.event_end, unit = 's')\n",
    "traindata['event_published'] = pd.to_datetime(traindata.event_published, unit = 's')\n",
    "traindata['event_start'] = pd.to_datetime(traindata.event_start, unit = 's')\n",
    "traindata['event_start'] = pd.to_datetime(traindata.event_start, unit = 's')\n",
    "traindata['user_created'] = pd.to_datetime(traindata.user_created, unit = 's')"
   ]
  },
  {
   "cell_type": "code",
   "execution_count": null,
   "metadata": {
    "collapsed": false
   },
   "outputs": [],
   "source": [
    "parsed = pd.DataFrame()\n",
    "for row, s in traindata.iterrows():\n",
    "    temp = pd.DataFrame()\n",
    "    try:\n",
    "        temp = pd.DataFrame(ast.literal_eval(s['previous_payouts']))\n",
    "        temp['uuid'] = s['sample_uuid']\n",
    "        parsed = parsed.append(temp)\n",
    "        \n",
    "    except ValueError:\n",
    "        print(\"this is something I am unable to understand\")\n",
    "    except SyntaxError:\n",
    "        print(\"this is something I am unable to understand\")"
   ]
  },
  {
   "cell_type": "code",
   "execution_count": null,
   "metadata": {
    "collapsed": false
   },
   "outputs": [],
   "source": [
    "parsed.head()"
   ]
  },
  {
   "cell_type": "code",
   "execution_count": null,
   "metadata": {
    "collapsed": false
   },
   "outputs": [],
   "source": [
    "parsed_ticket_types = pd.DataFrame()\n",
    "for row, s in traindata.iterrows():\n",
    "    temp = pd.DataFrame()\n",
    "    try:\n",
    "        temp = pd.DataFrame(ast.literal_eval(s['ticket_types']))\n",
    "        temp['uuid'] = s['sample_uuid']\n",
    "        parsed_ticket_types = parsed_ticket_types.append(temp)\n",
    "        \n",
    "    except ValueError:\n",
    "        print(\"this is something I am unable to understand\")\n",
    "    except SyntaxError:\n",
    "        print(\"this is something I am unable to understand\")"
   ]
  },
  {
   "cell_type": "code",
   "execution_count": null,
   "metadata": {
    "collapsed": false
   },
   "outputs": [],
   "source": [
    "parsed_ticket_types.head()"
   ]
  },
  {
   "cell_type": "code",
   "execution_count": null,
   "metadata": {
    "collapsed": false
   },
   "outputs": [],
   "source": [
    "result = traindata.merge(parsed,left_on='sample_uuid',right_on='uuid')"
   ]
  },
  {
   "cell_type": "code",
   "execution_count": null,
   "metadata": {
    "collapsed": true
   },
   "outputs": [],
   "source": [
    "result_final = result.merge(parsed_ticket_types,left_on='sample_uuid',right_on='uuid')"
   ]
  },
  {
   "cell_type": "code",
   "execution_count": null,
   "metadata": {
    "collapsed": false
   },
   "outputs": [],
   "source": [
    "result_final.drop(['previous_payouts', 'ticket_types', 'uuid_y', 'uuid_x'],inplace=True,axis=1)"
   ]
  },
  {
   "cell_type": "code",
   "execution_count": null,
   "metadata": {
    "collapsed": false
   },
   "outputs": [],
   "source": [
    "result_final.head(2).T"
   ]
  },
  {
   "cell_type": "code",
   "execution_count": null,
   "metadata": {
    "collapsed": false
   },
   "outputs": [],
   "source": [
    "result_final.to_csv('parsed_dataset.csv',index=False)"
   ]
  }
 ],
 "metadata": {
  "kernelspec": {
   "display_name": "Python 3",
   "language": "python",
   "name": "python3"
  },
  "language_info": {
   "codemirror_mode": {
    "name": "ipython",
    "version": 3
   },
   "file_extension": ".py",
   "mimetype": "text/x-python",
   "name": "python",
   "nbconvert_exporter": "python",
   "pygments_lexer": "ipython3",
   "version": "3.5.2"
  }
 },
 "nbformat": 4,
 "nbformat_minor": 1
}
