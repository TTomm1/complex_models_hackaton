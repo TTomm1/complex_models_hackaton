{
 "cells": [
  {
   "cell_type": "code",
   "execution_count": 1,
   "metadata": {
    "collapsed": false
   },
   "outputs": [],
   "source": [
    "%matplotlib inline  \n",
    "\n",
    "import numpy as np\n",
    "import pandas as pd\n",
    "import sklearn\n",
    "import sys\n",
    "import os.path\n",
    "import seaborn as sns\n",
    "import matplotlib.pyplot as plt\n"
   ]
  },
  {
   "cell_type": "code",
   "execution_count": 2,
   "metadata": {
    "collapsed": false,
    "scrolled": true
   },
   "outputs": [
    {
     "name": "stdout",
     "output_type": "stream",
     "text": [
      "/Users/stephengalsworthy/python/tutorials/ds-complex-models/complex_models_hackaton/code/data/train_set.csv\n"
     ]
    }
   ],
   "source": [
    "basepath = os.path.dirname(\".\")\n",
    "filepath = os.path.abspath(os.path.join(basepath, \"..\", \"data\", \"train_set.csv\"))\n",
    "print(filepath)"
   ]
  },
  {
   "cell_type": "code",
   "execution_count": 20,
   "metadata": {
    "collapsed": false
   },
   "outputs": [],
   "source": [
    "data=pd.read_csv(filepath, index_col=['sample_uuid'])\n",
    "traindata=data.copy()"
   ]
  },
  {
   "cell_type": "code",
   "execution_count": 4,
   "metadata": {
    "collapsed": false
   },
   "outputs": [],
   "source": [
    "X = data.loc[:, data.columns != 'label'].copy()\n",
    "y = data.loc[:, 'label'].copy()\n",
    "\n",
    "\n"
   ]
  },
  {
   "cell_type": "code",
   "execution_count": 26,
   "metadata": {
    "collapsed": false
   },
   "outputs": [
    {
     "data": {
      "text/html": [
       "<div>\n",
       "<table border=\"1\" class=\"dataframe\">\n",
       "  <thead>\n",
       "    <tr style=\"text-align: right;\">\n",
       "      <th></th>\n",
       "      <th>approx_payout_date</th>\n",
       "      <th>body_length</th>\n",
       "      <th>channels</th>\n",
       "      <th>country</th>\n",
       "      <th>currency</th>\n",
       "      <th>delivery_method</th>\n",
       "      <th>description</th>\n",
       "      <th>email_domain</th>\n",
       "      <th>event_created</th>\n",
       "      <th>event_end</th>\n",
       "      <th>...</th>\n",
       "      <th>ticket_types</th>\n",
       "      <th>user_age</th>\n",
       "      <th>user_created</th>\n",
       "      <th>user_type</th>\n",
       "      <th>venue_address</th>\n",
       "      <th>venue_country</th>\n",
       "      <th>venue_latitude</th>\n",
       "      <th>venue_longitude</th>\n",
       "      <th>venue_name</th>\n",
       "      <th>venue_state</th>\n",
       "    </tr>\n",
       "    <tr>\n",
       "      <th>sample_uuid</th>\n",
       "      <th></th>\n",
       "      <th></th>\n",
       "      <th></th>\n",
       "      <th></th>\n",
       "      <th></th>\n",
       "      <th></th>\n",
       "      <th></th>\n",
       "      <th></th>\n",
       "      <th></th>\n",
       "      <th></th>\n",
       "      <th></th>\n",
       "      <th></th>\n",
       "      <th></th>\n",
       "      <th></th>\n",
       "      <th></th>\n",
       "      <th></th>\n",
       "      <th></th>\n",
       "      <th></th>\n",
       "      <th></th>\n",
       "      <th></th>\n",
       "      <th></th>\n",
       "    </tr>\n",
       "  </thead>\n",
       "  <tbody>\n",
       "    <tr>\n",
       "      <th>37d2e927-6060-4d36-b3d1-c2d2d1051827</th>\n",
       "      <td>1320397200</td>\n",
       "      <td>2113</td>\n",
       "      <td>0</td>\n",
       "      <td>US</td>\n",
       "      <td>USD</td>\n",
       "      <td>1.0</td>\n",
       "      <td>&lt;p&gt;It's time to get your kink on for Halloween...</td>\n",
       "      <td>gmail.com</td>\n",
       "      <td>1317831221</td>\n",
       "      <td>1319965200</td>\n",
       "      <td>...</td>\n",
       "      <td>[{u'event_id': 1299135, u'cost': 10.35, u'avai...</td>\n",
       "      <td>338</td>\n",
       "      <td>1288650682</td>\n",
       "      <td>4</td>\n",
       "      <td>76 Union Place</td>\n",
       "      <td>US</td>\n",
       "      <td>41.769424</td>\n",
       "      <td>-72.681180</td>\n",
       "      <td>NaN</td>\n",
       "      <td>NaN</td>\n",
       "    </tr>\n",
       "    <tr>\n",
       "      <th>eddc4b10-5066-4224-b970-90b4acd8ee0c</th>\n",
       "      <td>1367533800</td>\n",
       "      <td>278</td>\n",
       "      <td>12</td>\n",
       "      <td>US</td>\n",
       "      <td>USD</td>\n",
       "      <td>0.0</td>\n",
       "      <td>&lt;p&gt;The opera that conquered London in Handel&amp;r...</td>\n",
       "      <td>murdocktheatre.com</td>\n",
       "      <td>1349762265</td>\n",
       "      <td>1367101800</td>\n",
       "      <td>...</td>\n",
       "      <td>[{u'event_id': 4542946, u'cost': 24.0, u'avail...</td>\n",
       "      <td>423</td>\n",
       "      <td>1313162870</td>\n",
       "      <td>3</td>\n",
       "      <td>536 N Broadway St</td>\n",
       "      <td>US</td>\n",
       "      <td>37.694706</td>\n",
       "      <td>-97.335055</td>\n",
       "      <td>Murdock Theatre</td>\n",
       "      <td>KS</td>\n",
       "    </tr>\n",
       "  </tbody>\n",
       "</table>\n",
       "<p>2 rows × 43 columns</p>\n",
       "</div>"
      ],
      "text/plain": [
       "                                      approx_payout_date  body_length  \\\n",
       "sample_uuid                                                             \n",
       "37d2e927-6060-4d36-b3d1-c2d2d1051827          1320397200         2113   \n",
       "eddc4b10-5066-4224-b970-90b4acd8ee0c          1367533800          278   \n",
       "\n",
       "                                      channels country currency  \\\n",
       "sample_uuid                                                       \n",
       "37d2e927-6060-4d36-b3d1-c2d2d1051827         0      US      USD   \n",
       "eddc4b10-5066-4224-b970-90b4acd8ee0c        12      US      USD   \n",
       "\n",
       "                                      delivery_method  \\\n",
       "sample_uuid                                             \n",
       "37d2e927-6060-4d36-b3d1-c2d2d1051827              1.0   \n",
       "eddc4b10-5066-4224-b970-90b4acd8ee0c              0.0   \n",
       "\n",
       "                                                                            description  \\\n",
       "sample_uuid                                                                               \n",
       "37d2e927-6060-4d36-b3d1-c2d2d1051827  <p>It's time to get your kink on for Halloween...   \n",
       "eddc4b10-5066-4224-b970-90b4acd8ee0c  <p>The opera that conquered London in Handel&r...   \n",
       "\n",
       "                                            email_domain  event_created  \\\n",
       "sample_uuid                                                               \n",
       "37d2e927-6060-4d36-b3d1-c2d2d1051827           gmail.com     1317831221   \n",
       "eddc4b10-5066-4224-b970-90b4acd8ee0c  murdocktheatre.com     1349762265   \n",
       "\n",
       "                                       event_end     ...       \\\n",
       "sample_uuid                                          ...        \n",
       "37d2e927-6060-4d36-b3d1-c2d2d1051827  1319965200     ...        \n",
       "eddc4b10-5066-4224-b970-90b4acd8ee0c  1367101800     ...        \n",
       "\n",
       "                                                                           ticket_types  \\\n",
       "sample_uuid                                                                               \n",
       "37d2e927-6060-4d36-b3d1-c2d2d1051827  [{u'event_id': 1299135, u'cost': 10.35, u'avai...   \n",
       "eddc4b10-5066-4224-b970-90b4acd8ee0c  [{u'event_id': 4542946, u'cost': 24.0, u'avail...   \n",
       "\n",
       "                                      user_age  user_created  user_type  \\\n",
       "sample_uuid                                                               \n",
       "37d2e927-6060-4d36-b3d1-c2d2d1051827       338    1288650682          4   \n",
       "eddc4b10-5066-4224-b970-90b4acd8ee0c       423    1313162870          3   \n",
       "\n",
       "                                          venue_address  venue_country  \\\n",
       "sample_uuid                                                              \n",
       "37d2e927-6060-4d36-b3d1-c2d2d1051827     76 Union Place             US   \n",
       "eddc4b10-5066-4224-b970-90b4acd8ee0c  536 N Broadway St             US   \n",
       "\n",
       "                                      venue_latitude venue_longitude  \\\n",
       "sample_uuid                                                            \n",
       "37d2e927-6060-4d36-b3d1-c2d2d1051827       41.769424      -72.681180   \n",
       "eddc4b10-5066-4224-b970-90b4acd8ee0c       37.694706      -97.335055   \n",
       "\n",
       "                                           venue_name  venue_state  \n",
       "sample_uuid                                                         \n",
       "37d2e927-6060-4d36-b3d1-c2d2d1051827              NaN          NaN  \n",
       "eddc4b10-5066-4224-b970-90b4acd8ee0c  Murdock Theatre           KS  \n",
       "\n",
       "[2 rows x 43 columns]"
      ]
     },
     "execution_count": 26,
     "metadata": {},
     "output_type": "execute_result"
    }
   ],
   "source": [
    "X.head(2)"
   ]
  },
  {
   "cell_type": "code",
   "execution_count": 27,
   "metadata": {
    "collapsed": false
   },
   "outputs": [
    {
     "data": {
      "text/plain": [
       "sample_uuid\n",
       "37d2e927-6060-4d36-b3d1-c2d2d1051827    False\n",
       "eddc4b10-5066-4224-b970-90b4acd8ee0c    False\n",
       "Name: label, dtype: bool"
      ]
     },
     "execution_count": 27,
     "metadata": {},
     "output_type": "execute_result"
    }
   ],
   "source": [
    "y.head(2)"
   ]
  },
  {
   "cell_type": "code",
   "execution_count": 5,
   "metadata": {
    "collapsed": false
   },
   "outputs": [
    {
     "name": "stderr",
     "output_type": "stream",
     "text": [
      "/Users/stephengalsworthy/miniconda3/lib/python3.5/site-packages/numpy/lib/function_base.py:3823: RuntimeWarning: Invalid value encountered in percentile\n",
      "  RuntimeWarning)\n"
     ]
    },
    {
     "data": {
      "text/html": [
       "<div>\n",
       "<table border=\"1\" class=\"dataframe\">\n",
       "  <thead>\n",
       "    <tr style=\"text-align: right;\">\n",
       "      <th></th>\n",
       "      <th>approx_payout_date</th>\n",
       "      <th>body_length</th>\n",
       "      <th>channels</th>\n",
       "      <th>delivery_method</th>\n",
       "      <th>event_created</th>\n",
       "      <th>event_end</th>\n",
       "      <th>event_published</th>\n",
       "      <th>event_start</th>\n",
       "      <th>fb_published</th>\n",
       "      <th>gts</th>\n",
       "      <th>...</th>\n",
       "      <th>org_facebook</th>\n",
       "      <th>org_twitter</th>\n",
       "      <th>sale_duration</th>\n",
       "      <th>sale_duration2</th>\n",
       "      <th>show_map</th>\n",
       "      <th>user_age</th>\n",
       "      <th>user_created</th>\n",
       "      <th>user_type</th>\n",
       "      <th>venue_latitude</th>\n",
       "      <th>venue_longitude</th>\n",
       "    </tr>\n",
       "  </thead>\n",
       "  <tbody>\n",
       "    <tr>\n",
       "      <th>count</th>\n",
       "      <td>9.566000e+03</td>\n",
       "      <td>9566.000000</td>\n",
       "      <td>9566.000000</td>\n",
       "      <td>9553.000000</td>\n",
       "      <td>9.566000e+03</td>\n",
       "      <td>9.566000e+03</td>\n",
       "      <td>9.499000e+03</td>\n",
       "      <td>9.566000e+03</td>\n",
       "      <td>9566.000000</td>\n",
       "      <td>9566.000000</td>\n",
       "      <td>...</td>\n",
       "      <td>9522.000000</td>\n",
       "      <td>9522.000000</td>\n",
       "      <td>9458.000000</td>\n",
       "      <td>9566.000000</td>\n",
       "      <td>9566.000000</td>\n",
       "      <td>9566.000000</td>\n",
       "      <td>9.566000e+03</td>\n",
       "      <td>9566.000000</td>\n",
       "      <td>8811.000000</td>\n",
       "      <td>8811.000000</td>\n",
       "    </tr>\n",
       "    <tr>\n",
       "      <th>mean</th>\n",
       "      <td>1.350967e+09</td>\n",
       "      <td>3600.076626</td>\n",
       "      <td>6.175099</td>\n",
       "      <td>0.438606</td>\n",
       "      <td>1.345841e+09</td>\n",
       "      <td>1.350535e+09</td>\n",
       "      <td>1.340370e+09</td>\n",
       "      <td>1.350227e+09</td>\n",
       "      <td>0.127744</td>\n",
       "      <td>2537.041253</td>\n",
       "      <td>...</td>\n",
       "      <td>7.988973</td>\n",
       "      <td>4.246377</td>\n",
       "      <td>46.847536</td>\n",
       "      <td>50.645411</td>\n",
       "      <td>0.843926</td>\n",
       "      <td>368.916580</td>\n",
       "      <td>1.313966e+09</td>\n",
       "      <td>2.711478</td>\n",
       "      <td>35.188826</td>\n",
       "      <td>-59.341245</td>\n",
       "    </tr>\n",
       "    <tr>\n",
       "      <th>std</th>\n",
       "      <td>2.410850e+07</td>\n",
       "      <td>5625.514468</td>\n",
       "      <td>3.882456</td>\n",
       "      <td>0.592584</td>\n",
       "      <td>2.412321e+07</td>\n",
       "      <td>2.410849e+07</td>\n",
       "      <td>9.136857e+07</td>\n",
       "      <td>2.406528e+07</td>\n",
       "      <td>0.333822</td>\n",
       "      <td>9882.497372</td>\n",
       "      <td>...</td>\n",
       "      <td>11.889382</td>\n",
       "      <td>6.001768</td>\n",
       "      <td>54.972117</td>\n",
       "      <td>59.917121</td>\n",
       "      <td>0.362944</td>\n",
       "      <td>418.061442</td>\n",
       "      <td>4.146082e+07</td>\n",
       "      <td>1.813802</td>\n",
       "      <td>20.408742</td>\n",
       "      <td>67.149592</td>\n",
       "    </tr>\n",
       "    <tr>\n",
       "      <th>min</th>\n",
       "      <td>1.171256e+09</td>\n",
       "      <td>0.000000</td>\n",
       "      <td>0.000000</td>\n",
       "      <td>0.000000</td>\n",
       "      <td>1.170332e+09</td>\n",
       "      <td>1.170824e+09</td>\n",
       "      <td>0.000000e+00</td>\n",
       "      <td>1.170819e+09</td>\n",
       "      <td>0.000000</td>\n",
       "      <td>0.000000</td>\n",
       "      <td>...</td>\n",
       "      <td>0.000000</td>\n",
       "      <td>0.000000</td>\n",
       "      <td>-1094.000000</td>\n",
       "      <td>-1094.000000</td>\n",
       "      <td>0.000000</td>\n",
       "      <td>0.000000</td>\n",
       "      <td>1.011210e+09</td>\n",
       "      <td>1.000000</td>\n",
       "      <td>-43.545454</td>\n",
       "      <td>-159.390183</td>\n",
       "    </tr>\n",
       "    <tr>\n",
       "      <th>25%</th>\n",
       "      <td>1.334208e+09</td>\n",
       "      <td>726.000000</td>\n",
       "      <td>5.000000</td>\n",
       "      <td>NaN</td>\n",
       "      <td>1.329493e+09</td>\n",
       "      <td>1.333776e+09</td>\n",
       "      <td>NaN</td>\n",
       "      <td>1.333229e+09</td>\n",
       "      <td>0.000000</td>\n",
       "      <td>116.797500</td>\n",
       "      <td>...</td>\n",
       "      <td>NaN</td>\n",
       "      <td>NaN</td>\n",
       "      <td>NaN</td>\n",
       "      <td>17.000000</td>\n",
       "      <td>1.000000</td>\n",
       "      <td>10.000000</td>\n",
       "      <td>1.287200e+09</td>\n",
       "      <td>1.000000</td>\n",
       "      <td>NaN</td>\n",
       "      <td>NaN</td>\n",
       "    </tr>\n",
       "    <tr>\n",
       "      <th>50%</th>\n",
       "      <td>1.355867e+09</td>\n",
       "      <td>1926.500000</td>\n",
       "      <td>6.000000</td>\n",
       "      <td>NaN</td>\n",
       "      <td>1.351040e+09</td>\n",
       "      <td>1.355435e+09</td>\n",
       "      <td>NaN</td>\n",
       "      <td>1.355015e+09</td>\n",
       "      <td>0.000000</td>\n",
       "      <td>433.740000</td>\n",
       "      <td>...</td>\n",
       "      <td>NaN</td>\n",
       "      <td>NaN</td>\n",
       "      <td>NaN</td>\n",
       "      <td>35.000000</td>\n",
       "      <td>1.000000</td>\n",
       "      <td>234.000000</td>\n",
       "      <td>1.317307e+09</td>\n",
       "      <td>3.000000</td>\n",
       "      <td>NaN</td>\n",
       "      <td>NaN</td>\n",
       "    </tr>\n",
       "    <tr>\n",
       "      <th>75%</th>\n",
       "      <td>1.370646e+09</td>\n",
       "      <td>4246.000000</td>\n",
       "      <td>8.000000</td>\n",
       "      <td>NaN</td>\n",
       "      <td>1.365442e+09</td>\n",
       "      <td>1.370214e+09</td>\n",
       "      <td>NaN</td>\n",
       "      <td>1.370052e+09</td>\n",
       "      <td>0.000000</td>\n",
       "      <td>1545.402500</td>\n",
       "      <td>...</td>\n",
       "      <td>NaN</td>\n",
       "      <td>NaN</td>\n",
       "      <td>NaN</td>\n",
       "      <td>64.000000</td>\n",
       "      <td>1.000000</td>\n",
       "      <td>595.000000</td>\n",
       "      <td>1.346953e+09</td>\n",
       "      <td>3.000000</td>\n",
       "      <td>NaN</td>\n",
       "      <td>NaN</td>\n",
       "    </tr>\n",
       "    <tr>\n",
       "      <th>max</th>\n",
       "      <td>1.523488e+09</td>\n",
       "      <td>65535.000000</td>\n",
       "      <td>13.000000</td>\n",
       "      <td>3.000000</td>\n",
       "      <td>1.382012e+09</td>\n",
       "      <td>1.523056e+09</td>\n",
       "      <td>1.381608e+09</td>\n",
       "      <td>1.418850e+09</td>\n",
       "      <td>1.000000</td>\n",
       "      <td>306293.930000</td>\n",
       "      <td>...</td>\n",
       "      <td>91.000000</td>\n",
       "      <td>34.000000</td>\n",
       "      <td>980.000000</td>\n",
       "      <td>980.000000</td>\n",
       "      <td>1.000000</td>\n",
       "      <td>3794.000000</td>\n",
       "      <td>1.381422e+09</td>\n",
       "      <td>103.000000</td>\n",
       "      <td>64.844022</td>\n",
       "      <td>176.169492</td>\n",
       "    </tr>\n",
       "  </tbody>\n",
       "</table>\n",
       "<p>8 rows × 27 columns</p>\n",
       "</div>"
      ],
      "text/plain": [
       "       approx_payout_date   body_length     channels  delivery_method  \\\n",
       "count        9.566000e+03   9566.000000  9566.000000      9553.000000   \n",
       "mean         1.350967e+09   3600.076626     6.175099         0.438606   \n",
       "std          2.410850e+07   5625.514468     3.882456         0.592584   \n",
       "min          1.171256e+09      0.000000     0.000000         0.000000   \n",
       "25%          1.334208e+09    726.000000     5.000000              NaN   \n",
       "50%          1.355867e+09   1926.500000     6.000000              NaN   \n",
       "75%          1.370646e+09   4246.000000     8.000000              NaN   \n",
       "max          1.523488e+09  65535.000000    13.000000         3.000000   \n",
       "\n",
       "       event_created     event_end  event_published   event_start  \\\n",
       "count   9.566000e+03  9.566000e+03     9.499000e+03  9.566000e+03   \n",
       "mean    1.345841e+09  1.350535e+09     1.340370e+09  1.350227e+09   \n",
       "std     2.412321e+07  2.410849e+07     9.136857e+07  2.406528e+07   \n",
       "min     1.170332e+09  1.170824e+09     0.000000e+00  1.170819e+09   \n",
       "25%     1.329493e+09  1.333776e+09              NaN  1.333229e+09   \n",
       "50%     1.351040e+09  1.355435e+09              NaN  1.355015e+09   \n",
       "75%     1.365442e+09  1.370214e+09              NaN  1.370052e+09   \n",
       "max     1.382012e+09  1.523056e+09     1.381608e+09  1.418850e+09   \n",
       "\n",
       "       fb_published            gts       ...         org_facebook  \\\n",
       "count   9566.000000    9566.000000       ...          9522.000000   \n",
       "mean       0.127744    2537.041253       ...             7.988973   \n",
       "std        0.333822    9882.497372       ...            11.889382   \n",
       "min        0.000000       0.000000       ...             0.000000   \n",
       "25%        0.000000     116.797500       ...                  NaN   \n",
       "50%        0.000000     433.740000       ...                  NaN   \n",
       "75%        0.000000    1545.402500       ...                  NaN   \n",
       "max        1.000000  306293.930000       ...            91.000000   \n",
       "\n",
       "       org_twitter  sale_duration  sale_duration2     show_map     user_age  \\\n",
       "count  9522.000000    9458.000000     9566.000000  9566.000000  9566.000000   \n",
       "mean      4.246377      46.847536       50.645411     0.843926   368.916580   \n",
       "std       6.001768      54.972117       59.917121     0.362944   418.061442   \n",
       "min       0.000000   -1094.000000    -1094.000000     0.000000     0.000000   \n",
       "25%            NaN            NaN       17.000000     1.000000    10.000000   \n",
       "50%            NaN            NaN       35.000000     1.000000   234.000000   \n",
       "75%            NaN            NaN       64.000000     1.000000   595.000000   \n",
       "max      34.000000     980.000000      980.000000     1.000000  3794.000000   \n",
       "\n",
       "       user_created    user_type  venue_latitude  venue_longitude  \n",
       "count  9.566000e+03  9566.000000     8811.000000      8811.000000  \n",
       "mean   1.313966e+09     2.711478       35.188826       -59.341245  \n",
       "std    4.146082e+07     1.813802       20.408742        67.149592  \n",
       "min    1.011210e+09     1.000000      -43.545454      -159.390183  \n",
       "25%    1.287200e+09     1.000000             NaN              NaN  \n",
       "50%    1.317307e+09     3.000000             NaN              NaN  \n",
       "75%    1.346953e+09     3.000000             NaN              NaN  \n",
       "max    1.381422e+09   103.000000       64.844022       176.169492  \n",
       "\n",
       "[8 rows x 27 columns]"
      ]
     },
     "execution_count": 5,
     "metadata": {},
     "output_type": "execute_result"
    }
   ],
   "source": [
    "traindata.describe()"
   ]
  },
  {
   "cell_type": "code",
   "execution_count": 6,
   "metadata": {
    "collapsed": false
   },
   "outputs": [],
   "source": [
    "corrmat = traindata.corr()"
   ]
  },
  {
   "cell_type": "code",
   "execution_count": 7,
   "metadata": {
    "collapsed": false
   },
   "outputs": [
    {
     "data": {
      "text/plain": [
       "venue_latitude        0.007610\n",
       "event_created         0.011271\n",
       "gts                   0.022593\n",
       "object_id             0.026717\n",
       "event_end             0.046008\n",
       "approx_payout_date    0.046008\n",
       "event_start           0.050136\n",
       "venue_longitude       0.074104\n",
       "has_header            0.079435\n",
       "num_order             0.079938\n",
       "event_published       0.082087\n",
       "show_map              0.083394\n",
       "num_payouts           0.085259\n",
       "has_analytics         0.088825\n",
       "fb_published          0.098215\n",
       "body_length           0.121136\n",
       "name_length           0.156906\n",
       "channels              0.168627\n",
       "org_facebook          0.178336\n",
       "user_created          0.180411\n",
       "sale_duration2        0.180811\n",
       "sale_duration         0.181611\n",
       "has_logo              0.181877\n",
       "user_type             0.189957\n",
       "delivery_method       0.196468\n",
       "org_twitter           0.203320\n",
       "user_age              0.214598\n",
       "label                 1.000000\n",
       "Name: label, dtype: float64"
      ]
     },
     "execution_count": 7,
     "metadata": {},
     "output_type": "execute_result"
    }
   ],
   "source": [
    "corrmat.iloc[:, 0].abs().sort_values()"
   ]
  },
  {
   "cell_type": "code",
   "execution_count": 35,
   "metadata": {
    "collapsed": false
   },
   "outputs": [
    {
     "data": {
      "text/plain": [
       "[<matplotlib.lines.Line2D at 0x11975b6a0>]"
      ]
     },
     "execution_count": 35,
     "metadata": {},
     "output_type": "execute_result"
    },
    {
     "data": {
      "image/png": "[encoded data removed]",
      "text/plain": [
       "<matplotlib.figure.Figure at 0x112e63e10>"
      ]
     },
     "metadata": {},
     "output_type": "display_data"
    }
   ],
   "source": [
    "\n",
    "plt.plot(X.user_age[y], y[y], '.')"
   ]
  },
  {
   "cell_type": "code",
   "execution_count": 33,
   "metadata": {
    "collapsed": false
   },
   "outputs": [
    {
     "data": {
      "text/plain": [
       "count     895.000000\n",
       "mean       89.683799\n",
       "std       304.743383\n",
       "min         0.000000\n",
       "25%         0.000000\n",
       "50%         0.000000\n",
       "75%        21.500000\n",
       "max      2207.000000\n",
       "Name: user_age, dtype: float64"
      ]
     },
     "execution_count": 33,
     "metadata": {},
     "output_type": "execute_result"
    }
   ],
   "source": [
    "X.user_age[y].describe()"
   ]
  },
  {
   "cell_type": "code",
   "execution_count": 36,
   "metadata": {
    "collapsed": false
   },
   "outputs": [
    {
     "name": "stderr",
     "output_type": "stream",
     "text": [
      "/Users/stephengalsworthy/miniconda3/lib/python3.5/site-packages/statsmodels/nonparametric/kdetools.py:20: VisibleDeprecationWarning: using a non-integer number instead of an integer will result in an error in the future\n",
      "  y = X[:m/2+1] + np.r_[0,X[m/2+1:],0]*1j\n"
     ]
    },
    {
     "data": {
      "text/plain": [
       "<matplotlib.axes._subplots.AxesSubplot at 0x11972b400>"
      ]
     },
     "execution_count": 36,
     "metadata": {},
     "output_type": "execute_result"
    },
    {
     "data": {
      "image/png": "[encoded data removed]",
      "text/plain": [
       "<matplotlib.figure.Figure at 0x119733438>"
      ]
     },
     "metadata": {},
     "output_type": "display_data"
    }
   ],
   "source": [
    "sns.distplot(X.user_age[y])"
   ]
  },
  {
   "cell_type": "code",
   "execution_count": 8,
   "metadata": {
    "collapsed": false
   },
   "outputs": [
    {
     "data": {
      "text/plain": [
       "<matplotlib.axes._subplots.AxesSubplot at 0x11257c400>"
      ]
     },
     "execution_count": 8,
     "metadata": {},
     "output_type": "execute_result"
    },
    {
     "data": {
      "image/png": "[encoded data removed]",
      "text/plain": [
       "<matplotlib.figure.Figure at 0x1100cd400>"
      ]
     },
     "metadata": {},
     "output_type": "display_data"
    }
   ],
   "source": [
    "# Set up the matplotlib figure\n",
    "f, ax = plt.subplots(figsize=(12, 9))\n",
    "\n",
    "# Draw the heatmap using seaborn\n",
    "sns.heatmap(corrmat, vmax=.8, square=True)"
   ]
  },
  {
   "cell_type": "code",
   "execution_count": 9,
   "metadata": {
    "collapsed": false
   },
   "outputs": [
    {
     "data": {
      "text/plain": [
       "label                                                             False\n",
       "approx_payout_date                                           1320397200\n",
       "body_length                                                        2113\n",
       "channels                                                              0\n",
       "country                                                              US\n",
       "currency                                                            USD\n",
       "delivery_method                                                       1\n",
       "description           <p>It's time to get your kink on for Halloween...\n",
       "email_domain                                                  gmail.com\n",
       "event_created                                                1317831221\n",
       "event_end                                                    1319965200\n",
       "event_published                                             1.31856e+09\n",
       "event_start                                                  1319940000\n",
       "fb_published                                                          0\n",
       "gts                                                                 316\n",
       "has_analytics                                                         0\n",
       "has_header                                                            0\n",
       "has_logo                                                              1\n",
       "listed                                                                n\n",
       "name                                                      KINKOLOGY III\n",
       "name_length                                                          13\n",
       "num_order                                                            14\n",
       "num_payouts                                                           1\n",
       "object_id                                                       1299135\n",
       "org_desc                                                            NaN\n",
       "org_facebook                                                          0\n",
       "org_name                                                            NaN\n",
       "org_twitter                                                           0\n",
       "payee_name                                                          NaN\n",
       "payout_type                                                         ACH\n",
       "previous_payouts      [{u'name': u'', u'created': u'2011-02-18 01:12...\n",
       "sale_duration                                                        16\n",
       "sale_duration2                                                       24\n",
       "show_map                                                              1\n",
       "ticket_types          [{u'event_id': 1299135, u'cost': 10.35, u'avai...\n",
       "user_age                                                            338\n",
       "user_created                                                 1288650682\n",
       "user_type                                                             4\n",
       "venue_address                                            76 Union Place\n",
       "venue_country                                                        US\n",
       "venue_latitude                                                  41.7694\n",
       "venue_longitude                                                -72.6812\n",
       "venue_name                                                          NaN\n",
       "venue_state                                                         NaN\n",
       "Name: 37d2e927-6060-4d36-b3d1-c2d2d1051827, dtype: object"
      ]
     },
     "execution_count": 9,
     "metadata": {},
     "output_type": "execute_result"
    }
   ],
   "source": [
    "traindata.iloc[0]"
   ]
  },
  {
   "cell_type": "code",
   "execution_count": 10,
   "metadata": {
    "collapsed": false
   },
   "outputs": [
    {
     "data": {
      "text/plain": [
       "label                    bool\n",
       "approx_payout_date      int64\n",
       "body_length             int64\n",
       "channels                int64\n",
       "country                object\n",
       "currency               object\n",
       "delivery_method       float64\n",
       "description            object\n",
       "email_domain           object\n",
       "event_created           int64\n",
       "event_end               int64\n",
       "event_published       float64\n",
       "event_start             int64\n",
       "fb_published            int64\n",
       "gts                   float64\n",
       "has_analytics           int64\n",
       "has_header            float64\n",
       "has_logo                int64\n",
       "listed                 object\n",
       "name                   object\n",
       "name_length             int64\n",
       "num_order               int64\n",
       "num_payouts             int64\n",
       "object_id               int64\n",
       "org_desc               object\n",
       "org_facebook          float64\n",
       "org_name               object\n",
       "org_twitter           float64\n",
       "payee_name             object\n",
       "payout_type            object\n",
       "previous_payouts       object\n",
       "sale_duration         float64\n",
       "sale_duration2          int64\n",
       "show_map                int64\n",
       "ticket_types           object\n",
       "user_age                int64\n",
       "user_created            int64\n",
       "user_type               int64\n",
       "venue_address          object\n",
       "venue_country          object\n",
       "venue_latitude        float64\n",
       "venue_longitude       float64\n",
       "venue_name             object\n",
       "venue_state            object\n",
       "dtype: object"
      ]
     },
     "execution_count": 10,
     "metadata": {},
     "output_type": "execute_result"
    }
   ],
   "source": [
    "traindata.dtypes"
   ]
  },
  {
   "cell_type": "code",
   "execution_count": 11,
   "metadata": {
    "collapsed": true
   },
   "outputs": [],
   "source": [
    "import category_encoders\n",
    "from sklearn.preprocessing import StandardScaler\n"
   ]
  },
  {
   "cell_type": "code",
   "execution_count": 12,
   "metadata": {
    "collapsed": false
   },
   "outputs": [],
   "source": [
    "categorical_cols = X.select_dtypes(include=['object']).columns\n",
    "categorical_cols = categorical_cols.drop(['previous_payouts', 'ticket_types'])\n",
    "\n",
    "one_hot_encoder = category_encoders.OneHotEncoder(cols=categorical_cols)\n",
    "\n"
   ]
  },
  {
   "cell_type": "code",
   "execution_count": 13,
   "metadata": {
    "collapsed": false
   },
   "outputs": [
    {
     "data": {
      "text/plain": [
       "Index(['country', 'currency', 'description', 'email_domain', 'listed', 'name',\n",
       "       'org_desc', 'org_name', 'payee_name', 'payout_type', 'venue_address',\n",
       "       'venue_country', 'venue_name', 'venue_state'],\n",
       "      dtype='object')"
      ]
     },
     "execution_count": 13,
     "metadata": {},
     "output_type": "execute_result"
    }
   ],
   "source": [
    "categorical_cols"
   ]
  },
  {
   "cell_type": "code",
   "execution_count": 14,
   "metadata": {
    "collapsed": false
   },
   "outputs": [
    {
     "data": {
      "text/plain": [
       "OneHotEncoder(cols=Index(['country', 'currency', 'description', 'email_domain', 'listed', 'name',\n",
       "       'org_desc', 'org_name', 'payee_name', 'payout_type', 'venue_address',\n",
       "       'venue_country', 'venue_name', 'venue_state'],\n",
       "      dtype='object'),\n",
       "       drop_invariant=False, return_df=True, verbose=0)"
      ]
     },
     "execution_count": 14,
     "metadata": {},
     "output_type": "execute_result"
    }
   ],
   "source": [
    "one_hot_encoder"
   ]
  },
  {
   "cell_type": "code",
   "execution_count": 15,
   "metadata": {
    "collapsed": false
   },
   "outputs": [
    {
     "ename": "KeyboardInterrupt",
     "evalue": "",
     "output_type": "error",
     "traceback": [
      "\u001b[0;31m---------------------------------------------------------------------------\u001b[0m",
      "\u001b[0;31mKeyboardInterrupt\u001b[0m                         Traceback (most recent call last)",
      "\u001b[0;32m<ipython-input-15-db478ba9a842>\u001b[0m in \u001b[0;36m<module>\u001b[0;34m()\u001b[0m\n\u001b[0;32m----> 1\u001b[0;31m \u001b[0mone_hot_encoder\u001b[0m\u001b[0;34m.\u001b[0m\u001b[0mfit\u001b[0m\u001b[0;34m(\u001b[0m\u001b[0mX\u001b[0m\u001b[0;34m)\u001b[0m\u001b[0;34m\u001b[0m\u001b[0m\n\u001b[0m",
      "\u001b[0;32m/Users/stephengalsworthy/miniconda3/lib/python3.5/site-packages/category_encoders/one_hot.py\u001b[0m in \u001b[0;36mfit\u001b[0;34m(self, X, y, **kwargs)\u001b[0m\n\u001b[1;32m     83\u001b[0m \u001b[0;34m\u001b[0m\u001b[0m\n\u001b[1;32m     84\u001b[0m         \u001b[0mself\u001b[0m\u001b[0;34m.\u001b[0m\u001b[0mordinal_encoder\u001b[0m \u001b[0;34m=\u001b[0m \u001b[0mOrdinalEncoder\u001b[0m\u001b[0;34m(\u001b[0m\u001b[0mverbose\u001b[0m\u001b[0;34m=\u001b[0m\u001b[0mself\u001b[0m\u001b[0;34m.\u001b[0m\u001b[0mverbose\u001b[0m\u001b[0;34m,\u001b[0m \u001b[0mcols\u001b[0m\u001b[0;34m=\u001b[0m\u001b[0mself\u001b[0m\u001b[0;34m.\u001b[0m\u001b[0mcols\u001b[0m\u001b[0;34m)\u001b[0m\u001b[0;34m\u001b[0m\u001b[0m\n\u001b[0;32m---> 85\u001b[0;31m         \u001b[0mself\u001b[0m\u001b[0;34m.\u001b[0m\u001b[0mordinal_encoder\u001b[0m \u001b[0;34m=\u001b[0m \u001b[0mself\u001b[0m\u001b[0;34m.\u001b[0m\u001b[0mordinal_encoder\u001b[0m\u001b[0;34m.\u001b[0m\u001b[0mfit\u001b[0m\u001b[0;34m(\u001b[0m\u001b[0mX\u001b[0m\u001b[0;34m)\u001b[0m\u001b[0;34m\u001b[0m\u001b[0m\n\u001b[0m\u001b[1;32m     86\u001b[0m \u001b[0;34m\u001b[0m\u001b[0m\n\u001b[1;32m     87\u001b[0m         \u001b[0;32mif\u001b[0m \u001b[0mself\u001b[0m\u001b[0;34m.\u001b[0m\u001b[0mdrop_invariant\u001b[0m\u001b[0;34m:\u001b[0m\u001b[0;34m\u001b[0m\u001b[0m\n",
      "\u001b[0;32m/Users/stephengalsworthy/miniconda3/lib/python3.5/site-packages/category_encoders/ordinal.py\u001b[0m in \u001b[0;36mfit\u001b[0;34m(self, X, y, **kwargs)\u001b[0m\n\u001b[1;32m     91\u001b[0m             \u001b[0mself\u001b[0m\u001b[0;34m.\u001b[0m\u001b[0mcols\u001b[0m \u001b[0;34m=\u001b[0m \u001b[0mget_obj_cols\u001b[0m\u001b[0;34m(\u001b[0m\u001b[0mX\u001b[0m\u001b[0;34m)\u001b[0m\u001b[0;34m\u001b[0m\u001b[0m\n\u001b[1;32m     92\u001b[0m \u001b[0;34m\u001b[0m\u001b[0m\n\u001b[0;32m---> 93\u001b[0;31m         \u001b[0m_\u001b[0m\u001b[0;34m,\u001b[0m \u001b[0mcategories\u001b[0m \u001b[0;34m=\u001b[0m \u001b[0mself\u001b[0m\u001b[0;34m.\u001b[0m\u001b[0mordinal_encoding\u001b[0m\u001b[0;34m(\u001b[0m\u001b[0mX\u001b[0m\u001b[0;34m,\u001b[0m \u001b[0mmapping\u001b[0m\u001b[0;34m=\u001b[0m\u001b[0mself\u001b[0m\u001b[0;34m.\u001b[0m\u001b[0mmapping\u001b[0m\u001b[0;34m,\u001b[0m \u001b[0mcols\u001b[0m\u001b[0;34m=\u001b[0m\u001b[0mself\u001b[0m\u001b[0;34m.\u001b[0m\u001b[0mcols\u001b[0m\u001b[0;34m,\u001b[0m \u001b[0mimpute_missing\u001b[0m\u001b[0;34m=\u001b[0m\u001b[0mself\u001b[0m\u001b[0;34m.\u001b[0m\u001b[0mimpute_missing\u001b[0m\u001b[0;34m)\u001b[0m\u001b[0;34m\u001b[0m\u001b[0m\n\u001b[0m\u001b[1;32m     94\u001b[0m         \u001b[0mself\u001b[0m\u001b[0;34m.\u001b[0m\u001b[0mmapping\u001b[0m \u001b[0;34m=\u001b[0m \u001b[0mcategories\u001b[0m\u001b[0;34m\u001b[0m\u001b[0m\n\u001b[1;32m     95\u001b[0m \u001b[0;34m\u001b[0m\u001b[0m\n",
      "\u001b[0;32m/Users/stephengalsworthy/miniconda3/lib/python3.5/site-packages/category_encoders/ordinal.py\u001b[0m in \u001b[0;36mordinal_encoding\u001b[0;34m(X_in, mapping, cols, impute_missing)\u001b[0m\n\u001b[1;32m    171\u001b[0m                 \u001b[0mrandom\u001b[0m\u001b[0;34m.\u001b[0m\u001b[0mshuffle\u001b[0m\u001b[0;34m(\u001b[0m\u001b[0mcategories\u001b[0m\u001b[0;34m)\u001b[0m\u001b[0;34m\u001b[0m\u001b[0m\n\u001b[1;32m    172\u001b[0m                 \u001b[0;32mfor\u001b[0m \u001b[0midx\u001b[0m\u001b[0;34m,\u001b[0m \u001b[0mval\u001b[0m \u001b[0;32min\u001b[0m \u001b[0menumerate\u001b[0m\u001b[0;34m(\u001b[0m\u001b[0mcategories\u001b[0m\u001b[0;34m)\u001b[0m\u001b[0;34m:\u001b[0m\u001b[0;34m\u001b[0m\u001b[0m\n\u001b[0;32m--> 173\u001b[0;31m                     \u001b[0mX\u001b[0m\u001b[0;34m.\u001b[0m\u001b[0mloc\u001b[0m\u001b[0;34m[\u001b[0m\u001b[0mX\u001b[0m\u001b[0;34m[\u001b[0m\u001b[0mcol\u001b[0m\u001b[0;34m]\u001b[0m \u001b[0;34m==\u001b[0m \u001b[0mval\u001b[0m\u001b[0;34m,\u001b[0m \u001b[0mcol\u001b[0m\u001b[0;34m]\u001b[0m \u001b[0;34m=\u001b[0m \u001b[0mstr\u001b[0m\u001b[0;34m(\u001b[0m\u001b[0midx\u001b[0m\u001b[0;34m)\u001b[0m\u001b[0;34m\u001b[0m\u001b[0m\n\u001b[0m\u001b[1;32m    174\u001b[0m \u001b[0;34m\u001b[0m\u001b[0m\n\u001b[1;32m    175\u001b[0m                 \u001b[0;32mif\u001b[0m \u001b[0mimpute_missing\u001b[0m\u001b[0;34m:\u001b[0m\u001b[0;34m\u001b[0m\u001b[0m\n",
      "\u001b[0;32m/Users/stephengalsworthy/miniconda3/lib/python3.5/site-packages/pandas/core/indexing.py\u001b[0m in \u001b[0;36m__setitem__\u001b[0;34m(self, key, value)\u001b[0m\n\u001b[1;32m    130\u001b[0m             \u001b[0mkey\u001b[0m \u001b[0;34m=\u001b[0m \u001b[0mcom\u001b[0m\u001b[0;34m.\u001b[0m\u001b[0m_apply_if_callable\u001b[0m\u001b[0;34m(\u001b[0m\u001b[0mkey\u001b[0m\u001b[0;34m,\u001b[0m \u001b[0mself\u001b[0m\u001b[0;34m.\u001b[0m\u001b[0mobj\u001b[0m\u001b[0;34m)\u001b[0m\u001b[0;34m\u001b[0m\u001b[0m\n\u001b[1;32m    131\u001b[0m         \u001b[0mindexer\u001b[0m \u001b[0;34m=\u001b[0m \u001b[0mself\u001b[0m\u001b[0;34m.\u001b[0m\u001b[0m_get_setitem_indexer\u001b[0m\u001b[0;34m(\u001b[0m\u001b[0mkey\u001b[0m\u001b[0;34m)\u001b[0m\u001b[0;34m\u001b[0m\u001b[0m\n\u001b[0;32m--> 132\u001b[0;31m         \u001b[0mself\u001b[0m\u001b[0;34m.\u001b[0m\u001b[0m_setitem_with_indexer\u001b[0m\u001b[0;34m(\u001b[0m\u001b[0mindexer\u001b[0m\u001b[0;34m,\u001b[0m \u001b[0mvalue\u001b[0m\u001b[0;34m)\u001b[0m\u001b[0;34m\u001b[0m\u001b[0m\n\u001b[0m\u001b[1;32m    133\u001b[0m \u001b[0;34m\u001b[0m\u001b[0m\n\u001b[1;32m    134\u001b[0m     \u001b[0;32mdef\u001b[0m \u001b[0m_has_valid_type\u001b[0m\u001b[0;34m(\u001b[0m\u001b[0mself\u001b[0m\u001b[0;34m,\u001b[0m \u001b[0mk\u001b[0m\u001b[0;34m,\u001b[0m \u001b[0maxis\u001b[0m\u001b[0;34m)\u001b[0m\u001b[0;34m:\u001b[0m\u001b[0;34m\u001b[0m\u001b[0m\n",
      "\u001b[0;32m/Users/stephengalsworthy/miniconda3/lib/python3.5/site-packages/pandas/core/indexing.py\u001b[0m in \u001b[0;36m_setitem_with_indexer\u001b[0;34m(self, indexer, value)\u001b[0m\n\u001b[1;32m    534\u001b[0m                 \u001b[0;31m# scalar\u001b[0m\u001b[0;34m\u001b[0m\u001b[0;34m\u001b[0m\u001b[0m\n\u001b[1;32m    535\u001b[0m                 \u001b[0;32mfor\u001b[0m \u001b[0mitem\u001b[0m \u001b[0;32min\u001b[0m \u001b[0mlabels\u001b[0m\u001b[0;34m:\u001b[0m\u001b[0;34m\u001b[0m\u001b[0m\n\u001b[0;32m--> 536\u001b[0;31m                     \u001b[0msetter\u001b[0m\u001b[0;34m(\u001b[0m\u001b[0mitem\u001b[0m\u001b[0;34m,\u001b[0m \u001b[0mvalue\u001b[0m\u001b[0;34m)\u001b[0m\u001b[0;34m\u001b[0m\u001b[0m\n\u001b[0m\u001b[1;32m    537\u001b[0m \u001b[0;34m\u001b[0m\u001b[0m\n\u001b[1;32m    538\u001b[0m         \u001b[0;32melse\u001b[0m\u001b[0;34m:\u001b[0m\u001b[0;34m\u001b[0m\u001b[0m\n",
      "\u001b[0;32m/Users/stephengalsworthy/miniconda3/lib/python3.5/site-packages/pandas/core/indexing.py\u001b[0m in \u001b[0;36msetter\u001b[0;34m(item, v)\u001b[0m\n\u001b[1;32m    463\u001b[0m \u001b[0;34m\u001b[0m\u001b[0m\n\u001b[1;32m    464\u001b[0m                 \u001b[0;31m# reset the sliced object if unique\u001b[0m\u001b[0;34m\u001b[0m\u001b[0;34m\u001b[0m\u001b[0m\n\u001b[0;32m--> 465\u001b[0;31m                 \u001b[0mself\u001b[0m\u001b[0;34m.\u001b[0m\u001b[0mobj\u001b[0m\u001b[0;34m[\u001b[0m\u001b[0mitem\u001b[0m\u001b[0;34m]\u001b[0m \u001b[0;34m=\u001b[0m \u001b[0ms\u001b[0m\u001b[0;34m\u001b[0m\u001b[0m\n\u001b[0m\u001b[1;32m    466\u001b[0m \u001b[0;34m\u001b[0m\u001b[0m\n\u001b[1;32m    467\u001b[0m             \u001b[0;32mdef\u001b[0m \u001b[0mcan_do_equal_len\u001b[0m\u001b[0;34m(\u001b[0m\u001b[0;34m)\u001b[0m\u001b[0;34m:\u001b[0m\u001b[0;34m\u001b[0m\u001b[0m\n",
      "\u001b[0;32m/Users/stephengalsworthy/miniconda3/lib/python3.5/site-packages/pandas/core/frame.py\u001b[0m in \u001b[0;36m__setitem__\u001b[0;34m(self, key, value)\u001b[0m\n\u001b[1;32m   2355\u001b[0m         \u001b[0;32melse\u001b[0m\u001b[0;34m:\u001b[0m\u001b[0;34m\u001b[0m\u001b[0m\n\u001b[1;32m   2356\u001b[0m             \u001b[0;31m# set column\u001b[0m\u001b[0;34m\u001b[0m\u001b[0;34m\u001b[0m\u001b[0m\n\u001b[0;32m-> 2357\u001b[0;31m             \u001b[0mself\u001b[0m\u001b[0;34m.\u001b[0m\u001b[0m_set_item\u001b[0m\u001b[0;34m(\u001b[0m\u001b[0mkey\u001b[0m\u001b[0;34m,\u001b[0m \u001b[0mvalue\u001b[0m\u001b[0;34m)\u001b[0m\u001b[0;34m\u001b[0m\u001b[0m\n\u001b[0m\u001b[1;32m   2358\u001b[0m \u001b[0;34m\u001b[0m\u001b[0m\n\u001b[1;32m   2359\u001b[0m     \u001b[0;32mdef\u001b[0m \u001b[0m_setitem_slice\u001b[0m\u001b[0;34m(\u001b[0m\u001b[0mself\u001b[0m\u001b[0;34m,\u001b[0m \u001b[0mkey\u001b[0m\u001b[0;34m,\u001b[0m \u001b[0mvalue\u001b[0m\u001b[0;34m)\u001b[0m\u001b[0;34m:\u001b[0m\u001b[0;34m\u001b[0m\u001b[0m\n",
      "\u001b[0;32m/Users/stephengalsworthy/miniconda3/lib/python3.5/site-packages/pandas/core/frame.py\u001b[0m in \u001b[0;36m_set_item\u001b[0;34m(self, key, value)\u001b[0m\n\u001b[1;32m   2421\u001b[0m \u001b[0;34m\u001b[0m\u001b[0m\n\u001b[1;32m   2422\u001b[0m         \u001b[0mself\u001b[0m\u001b[0;34m.\u001b[0m\u001b[0m_ensure_valid_index\u001b[0m\u001b[0;34m(\u001b[0m\u001b[0mvalue\u001b[0m\u001b[0;34m)\u001b[0m\u001b[0;34m\u001b[0m\u001b[0m\n\u001b[0;32m-> 2423\u001b[0;31m         \u001b[0mvalue\u001b[0m \u001b[0;34m=\u001b[0m \u001b[0mself\u001b[0m\u001b[0;34m.\u001b[0m\u001b[0m_sanitize_column\u001b[0m\u001b[0;34m(\u001b[0m\u001b[0mkey\u001b[0m\u001b[0;34m,\u001b[0m \u001b[0mvalue\u001b[0m\u001b[0;34m)\u001b[0m\u001b[0;34m\u001b[0m\u001b[0m\n\u001b[0m\u001b[1;32m   2424\u001b[0m         \u001b[0mNDFrame\u001b[0m\u001b[0;34m.\u001b[0m\u001b[0m_set_item\u001b[0m\u001b[0;34m(\u001b[0m\u001b[0mself\u001b[0m\u001b[0;34m,\u001b[0m \u001b[0mkey\u001b[0m\u001b[0;34m,\u001b[0m \u001b[0mvalue\u001b[0m\u001b[0;34m)\u001b[0m\u001b[0;34m\u001b[0m\u001b[0m\n\u001b[1;32m   2425\u001b[0m \u001b[0;34m\u001b[0m\u001b[0m\n",
      "\u001b[0;32m/Users/stephengalsworthy/miniconda3/lib/python3.5/site-packages/pandas/core/frame.py\u001b[0m in \u001b[0;36m_sanitize_column\u001b[0;34m(self, key, value)\u001b[0m\n\u001b[1;32m   2604\u001b[0m         \u001b[0;32mif\u001b[0m \u001b[0mkey\u001b[0m \u001b[0;32min\u001b[0m \u001b[0mself\u001b[0m\u001b[0;34m.\u001b[0m\u001b[0mcolumns\u001b[0m \u001b[0;32mand\u001b[0m \u001b[0mvalue\u001b[0m\u001b[0;34m.\u001b[0m\u001b[0mndim\u001b[0m \u001b[0;34m==\u001b[0m \u001b[0;36m1\u001b[0m\u001b[0;34m:\u001b[0m\u001b[0;34m\u001b[0m\u001b[0m\n\u001b[1;32m   2605\u001b[0m             if (not self.columns.is_unique or\n\u001b[0;32m-> 2606\u001b[0;31m                     isinstance(self.columns, MultiIndex)):\n\u001b[0m\u001b[1;32m   2607\u001b[0m                 \u001b[0mexisting_piece\u001b[0m \u001b[0;34m=\u001b[0m \u001b[0mself\u001b[0m\u001b[0;34m[\u001b[0m\u001b[0mkey\u001b[0m\u001b[0;34m]\u001b[0m\u001b[0;34m\u001b[0m\u001b[0m\n\u001b[1;32m   2608\u001b[0m                 \u001b[0;32mif\u001b[0m \u001b[0misinstance\u001b[0m\u001b[0;34m(\u001b[0m\u001b[0mexisting_piece\u001b[0m\u001b[0;34m,\u001b[0m \u001b[0mDataFrame\u001b[0m\u001b[0;34m)\u001b[0m\u001b[0;34m:\u001b[0m\u001b[0;34m\u001b[0m\u001b[0m\n",
      "\u001b[0;31mKeyboardInterrupt\u001b[0m: "
     ]
    }
   ],
   "source": [
    "one_hot_encoder.fit(X)"
   ]
  },
  {
   "cell_type": "code",
   "execution_count": 17,
   "metadata": {
    "collapsed": false
   },
   "outputs": [
    {
     "ename": "TypeError",
     "evalue": "'method' object is not subscriptable",
     "output_type": "error",
     "traceback": [
      "\u001b[0;31m---------------------------------------------------------------------------\u001b[0m",
      "\u001b[0;31mTypeError\u001b[0m                                 Traceback (most recent call last)",
      "\u001b[0;32m<ipython-input-17-6e2b1fb5e55d>\u001b[0m in \u001b[0;36m<module>\u001b[0;34m()\u001b[0m\n\u001b[0;32m----> 1\u001b[0;31m \u001b[0mX\u001b[0m\u001b[0;34m.\u001b[0m\u001b[0mhead\u001b[0m\u001b[0;34m[\u001b[0m\u001b[0;36m0\u001b[0m\u001b[0;34m]\u001b[0m\u001b[0;34m\u001b[0m\u001b[0m\n\u001b[0m",
      "\u001b[0;31mTypeError\u001b[0m: 'method' object is not subscriptable"
     ]
    }
   ],
   "source": [
    "X.head[0]"
   ]
  },
  {
   "cell_type": "code",
   "execution_count": null,
   "metadata": {
    "collapsed": false
   },
   "outputs": [],
   "source": [
    "X_train_transformed = one_hot_encoder.transform(traindata)"
   ]
  },
  {
   "cell_type": "code",
   "execution_count": null,
   "metadata": {
    "collapsed": true
   },
   "outputs": [],
   "source": [
    "output_young"
   ]
  }
 ],
 "metadata": {
  "kernelspec": {
   "display_name": "Python 3",
   "language": "python",
   "name": "python3"
  },
  "language_info": {
   "codemirror_mode": {
    "name": "ipython",
    "version": 3
   },
   "file_extension": ".py",
   "mimetype": "text/x-python",
   "name": "python",
   "nbconvert_exporter": "python",
   "pygments_lexer": "ipython3",
   "version": "3.5.1"
  }
 },
 "nbformat": 4,
 "nbformat_minor": 1
}
